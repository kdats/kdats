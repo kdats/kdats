{
  "nbformat": 4,
  "nbformat_minor": 0,
  "metadata": {
    "colab": {
      "provenance": [],
      "mount_file_id": "196XXUsvnMXbSAU5UxQIB7DCL5zdlrhdD",
      "authorship_tag": "ABX9TyNAnb9d7+eM6mISSYlYPpG+",
      "include_colab_link": true
    },
    "kernelspec": {
      "name": "python3",
      "display_name": "Python 3"
    },
    "language_info": {
      "name": "python"
    }
  },
  "cells": [
    {
      "cell_type": "markdown",
      "metadata": {
        "id": "view-in-github",
        "colab_type": "text"
      },
      "source": [
        "<a href=\"https://colab.research.google.com/github/kdats/kdats/blob/main/roberta_bonus2.ipynb\" target=\"_parent\"><img src=\"https://colab.research.google.com/assets/colab-badge.svg\" alt=\"Open In Colab\"/></a>"
      ]
    },
    {
      "cell_type": "markdown",
      "source": [
        "## installing transformers\n"
      ],
      "metadata": {
        "id": "LaVk0JJ8X175"
      }
    },
    {
      "cell_type": "code",
      "execution_count": 15,
      "metadata": {
        "id": "jZAyl2x1aBT4",
        "colab": {
          "base_uri": "https://localhost:8080/"
        },
        "collapsed": true,
        "outputId": "b4a672b0-5fac-40eb-c8c3-dc34822f1ea9"
      },
      "outputs": [
        {
          "output_type": "stream",
          "name": "stdout",
          "text": [
            "Looking in indexes: https://pypi.org/simple, https://us-python.pkg.dev/colab-wheels/public/simple/\n",
            "Requirement already satisfied: transformers in /usr/local/lib/python3.7/dist-packages (4.24.0)\n",
            "Requirement already satisfied: tokenizers!=0.11.3,<0.14,>=0.11.1 in /usr/local/lib/python3.7/dist-packages (from transformers) (0.13.2)\n",
            "Requirement already satisfied: huggingface-hub<1.0,>=0.10.0 in /usr/local/lib/python3.7/dist-packages (from transformers) (0.11.1)\n",
            "Requirement already satisfied: tqdm>=4.27 in /usr/local/lib/python3.7/dist-packages (from transformers) (4.64.1)\n",
            "Requirement already satisfied: numpy>=1.17 in /usr/local/lib/python3.7/dist-packages (from transformers) (1.21.6)\n",
            "Requirement already satisfied: pyyaml>=5.1 in /usr/local/lib/python3.7/dist-packages (from transformers) (6.0)\n",
            "Requirement already satisfied: requests in /usr/local/lib/python3.7/dist-packages (from transformers) (2.23.0)\n",
            "Requirement already satisfied: regex!=2019.12.17 in /usr/local/lib/python3.7/dist-packages (from transformers) (2022.6.2)\n",
            "Requirement already satisfied: filelock in /usr/local/lib/python3.7/dist-packages (from transformers) (3.8.0)\n",
            "Requirement already satisfied: packaging>=20.0 in /usr/local/lib/python3.7/dist-packages (from transformers) (21.3)\n",
            "Requirement already satisfied: importlib-metadata in /usr/local/lib/python3.7/dist-packages (from transformers) (4.13.0)\n",
            "Requirement already satisfied: typing-extensions>=3.7.4.3 in /usr/local/lib/python3.7/dist-packages (from huggingface-hub<1.0,>=0.10.0->transformers) (4.1.1)\n",
            "Requirement already satisfied: pyparsing!=3.0.5,>=2.0.2 in /usr/local/lib/python3.7/dist-packages (from packaging>=20.0->transformers) (3.0.9)\n",
            "Requirement already satisfied: zipp>=0.5 in /usr/local/lib/python3.7/dist-packages (from importlib-metadata->transformers) (3.10.0)\n",
            "Requirement already satisfied: certifi>=2017.4.17 in /usr/local/lib/python3.7/dist-packages (from requests->transformers) (2022.9.24)\n",
            "Requirement already satisfied: idna<3,>=2.5 in /usr/local/lib/python3.7/dist-packages (from requests->transformers) (2.10)\n",
            "Requirement already satisfied: chardet<4,>=3.0.2 in /usr/local/lib/python3.7/dist-packages (from requests->transformers) (3.0.4)\n",
            "Requirement already satisfied: urllib3!=1.25.0,!=1.25.1,<1.26,>=1.21.1 in /usr/local/lib/python3.7/dist-packages (from requests->transformers) (1.24.3)\n"
          ]
        }
      ],
      "source": [
        "!pip install transformers"
      ]
    },
    {
      "cell_type": "markdown",
      "source": [
        "## Installing and Testing roberta"
      ],
      "metadata": {
        "id": "ty8jG4lFX1Ir"
      }
    },
    {
      "cell_type": "code",
      "source": [
        "from transformers import AutoModelForQuestionAnswering, AutoTokenizer, pipeline\n",
        "\n",
        "model_name = \"dmis-lab/biobert-large-cased-v1.1-squad\"\n",
        "\n",
        "# a) Get predictions\n",
        "nlp = pipeline('question-answering', model=model_name, tokenizer=model_name)\n",
        "QA_input = {\n",
        "    'question': 'Why is model conversion important?',\n",
        "    'context': 'The option to convert models between FARM and transformers gives freedom to the user and let people easily switch between frameworks.'\n",
        "}\n",
        "res = nlp(QA_input)\n",
        "\n",
        "# b) Load model & tokenizer\n",
        "model = AutoModelForQuestionAnswering.from_pretrained(model_name)\n",
        "tokenizer = AutoTokenizer.from_pretrained(model_name)"
      ],
      "metadata": {
        "id": "1ISeZdHna_KG"
      },
      "execution_count": 16,
      "outputs": []
    },
    {
      "cell_type": "code",
      "source": [
        "from google.colab import drive\n",
        "drive.mount('/content/drive')"
      ],
      "metadata": {
        "colab": {
          "base_uri": "https://localhost:8080/"
        },
        "id": "qjPxiU0jLaEd",
        "outputId": "ab326d8f-eb52-4661-9f97-91747d317229"
      },
      "execution_count": 4,
      "outputs": [
        {
          "output_type": "stream",
          "name": "stdout",
          "text": [
            "Drive already mounted at /content/drive; to attempt to forcibly remount, call drive.mount(\"/content/drive\", force_remount=True).\n"
          ]
        }
      ]
    },
    {
      "cell_type": "code",
      "source": [
        "import pandas as pd\n",
        "import nltk"
      ],
      "metadata": {
        "id": "NS-AYn5ZL_-3"
      },
      "execution_count": 4,
      "outputs": []
    },
    {
      "cell_type": "markdown",
      "source": [
        "## Importing data"
      ],
      "metadata": {
        "id": "7mYJDBVLYJOM"
      }
    },
    {
      "cell_type": "code",
      "source": [
        "df = pd.read_excel(\"/content/drive/MyDrive/mtsamples.xlsx\")"
      ],
      "metadata": {
        "id": "JwpwRBSbMHql"
      },
      "execution_count": 5,
      "outputs": []
    },
    {
      "cell_type": "markdown",
      "source": [
        "## Viewing samples"
      ],
      "metadata": {
        "id": "l3g2L2SEYU_-"
      }
    },
    {
      "cell_type": "code",
      "source": [
        "df[\"transcription\"][0]"
      ],
      "metadata": {
        "colab": {
          "base_uri": "https://localhost:8080/",
          "height": 157
        },
        "id": "qCmg3RckNAa1",
        "outputId": "dafef7ac-d423-41cb-d50e-b08c6f103bae"
      },
      "execution_count": 6,
      "outputs": [
        {
          "output_type": "execute_result",
          "data": {
            "text/plain": [
              "'SUBJECTIVE:,  This 23-year-old white female presents with complaint of allergies.  She used to have allergies when she lived in Seattle but she thinks they are worse here.  In the past, she has tried Claritin, and Zyrtec.  Both worked for short time but then seemed to lose effectiveness.  She has used Allegra also.  She used that last summer and she began using it again two weeks ago.  It does not appear to be working very well.  She has used over-the-counter sprays but no prescription nasal sprays.  She does have asthma but doest not require daily medication for this and does not think it is flaring up.,MEDICATIONS: , Her only medication currently is Ortho Tri-Cyclen and the Allegra.,ALLERGIES: , She has no known medicine allergies.,OBJECTIVE:,Vitals:  Weight was 130 pounds and blood pressure 124/78.,HEENT:  Her throat was mildly erythematous without exudate.  Nasal mucosa was erythematous and swollen.  Only clear drainage was seen.  TMs were clear.,Neck:  Supple without adenopathy.,Lungs:  Clear.,ASSESSMENT:,  Allergic rhinitis.,PLAN:,1.  She will try Zyrtec instead of Allegra again.  Another option will be to use loratadine.  She does not think she has prescription coverage so that might be cheaper.,2.  Samples of Nasonex two sprays in each nostril given for three weeks.  A prescription was written as well.'"
            ],
            "application/vnd.google.colaboratory.intrinsic+json": {
              "type": "string"
            }
          },
          "metadata": {},
          "execution_count": 6
        }
      ]
    },
    {
      "cell_type": "code",
      "source": [
        "def get_age_result (current_text):\n",
        "  try:\n",
        "\n",
        "    input = { 'question': \"How old is the patient?\",\n",
        "        'context': current_text}\n",
        "    res = nlp(input)\n",
        "    if res[\"score\"]>.6:\n",
        "      return str(res['answer'])\n",
        "    else:\n",
        "      return \"Not Available\"\n",
        "  except:\n",
        "    return \"Not Available\"\n",
        "def get_complaint_result (current_text):\n",
        "  try:\n",
        "    input = { 'question': \"Does the patient have any complaints?\",\n",
        "        'context': current_text}\n",
        "    res = nlp(input)\n",
        "    if res[\"score\"]>.6:\n",
        "      return str(res['answer'])\n",
        "    else:\n",
        "      return \"Not Available\"\n",
        "  except:\n",
        "    return \"Not Available\"\n",
        "def get_consulation_result(current_text):\n",
        "  try:\n",
        "    input = { 'question': \"What is the reason for the consultation?\",\n",
        "        'context': current_text}\n",
        "    res = nlp(input)\n",
        "    if res[\"score\"]>.6:\n",
        "      return str(res['answer'])\n",
        "    else:\n",
        "      return \"Not Available\"\n",
        "  except:\n",
        "    return \"Not Available\"\n",
        "def get_symptoms_result(current_text):\n",
        "  try:\n",
        "    input = { 'question': \"what other symptoms does the patient have?\",\n",
        "        'context': current_text}\n",
        "    res = nlp(input)\n",
        "    if res[\"score\"]>.6:\n",
        "      return str(res['answer'])\n",
        "    else:\n",
        "      return \"Not Available\"\n",
        "  except:\n",
        "    return \"Not Available\""
      ],
      "metadata": {
        "id": "NQHZnmu2NRSj"
      },
      "execution_count": 7,
      "outputs": []
    },
    {
      "cell_type": "code",
      "source": [
        "df[\"transcription\"] = df[\"transcription\"].astype(str)"
      ],
      "metadata": {
        "id": "DXBnTCaVpXOA"
      },
      "execution_count": 8,
      "outputs": []
    },
    {
      "cell_type": "code",
      "source": [
        "df1 = df.head(10)"
      ],
      "metadata": {
        "id": "BT1Edb7fHCbX"
      },
      "execution_count": 9,
      "outputs": []
    },
    {
      "cell_type": "code",
      "source": [
        "df1[\"age\"] = \"\"\n",
        "df1[\"complaint\"] = \"\"\n",
        "df1[\"consultation\"] = \"\"\n",
        "df1[\"symptoms\"] = \"\"\n",
        "for ix, i in df1[\"transcription\"].iteritems():\n",
        "  try:\n",
        "    print(i)\n",
        "    df1.iloc[ix, df1.columns.get_loc(\"age\")] = get_age_result(i)\n",
        "    df1.iloc[ix, df1.columns.get_loc(\"complaint\")] = get_complaint_result(i) \n",
        "    df1.iloc[ix, df1.columns.get_loc(\"consultation\")] =get_consulation_result(i)\n",
        "    df1.iloc[ix, df1.columns.get_loc(\"symptoms\")] = get_symptoms_result(i)\n",
        "  except Exception as e:\n",
        "    # print(e)\n",
        "    continue\n",
        "print(df1)\n",
        "df1.to_excel(\"/content/drive/MyDrive/result.xlsx\")"
      ],
      "metadata": {
        "colab": {
          "base_uri": "https://localhost:8080/"
        },
        "id": "h4rckVrwNJ2Z",
        "outputId": "1f54f017-d21c-40ed-aea9-b300a30a8a56"
      },
      "execution_count": 17,
      "outputs": [
        {
          "output_type": "stream",
          "name": "stderr",
          "text": [
            "/usr/local/lib/python3.7/dist-packages/ipykernel_launcher.py:1: SettingWithCopyWarning: \n",
            "A value is trying to be set on a copy of a slice from a DataFrame.\n",
            "Try using .loc[row_indexer,col_indexer] = value instead\n",
            "\n",
            "See the caveats in the documentation: https://pandas.pydata.org/pandas-docs/stable/user_guide/indexing.html#returning-a-view-versus-a-copy\n",
            "  \"\"\"Entry point for launching an IPython kernel.\n",
            "/usr/local/lib/python3.7/dist-packages/ipykernel_launcher.py:2: SettingWithCopyWarning: \n",
            "A value is trying to be set on a copy of a slice from a DataFrame.\n",
            "Try using .loc[row_indexer,col_indexer] = value instead\n",
            "\n",
            "See the caveats in the documentation: https://pandas.pydata.org/pandas-docs/stable/user_guide/indexing.html#returning-a-view-versus-a-copy\n",
            "  \n",
            "/usr/local/lib/python3.7/dist-packages/ipykernel_launcher.py:3: SettingWithCopyWarning: \n",
            "A value is trying to be set on a copy of a slice from a DataFrame.\n",
            "Try using .loc[row_indexer,col_indexer] = value instead\n",
            "\n",
            "See the caveats in the documentation: https://pandas.pydata.org/pandas-docs/stable/user_guide/indexing.html#returning-a-view-versus-a-copy\n",
            "  This is separate from the ipykernel package so we can avoid doing imports until\n",
            "/usr/local/lib/python3.7/dist-packages/ipykernel_launcher.py:4: SettingWithCopyWarning: \n",
            "A value is trying to be set on a copy of a slice from a DataFrame.\n",
            "Try using .loc[row_indexer,col_indexer] = value instead\n",
            "\n",
            "See the caveats in the documentation: https://pandas.pydata.org/pandas-docs/stable/user_guide/indexing.html#returning-a-view-versus-a-copy\n",
            "  after removing the cwd from sys.path.\n"
          ]
        },
        {
          "output_type": "stream",
          "name": "stdout",
          "text": [
            "SUBJECTIVE:,  This 23-year-old white female presents with complaint of allergies.  She used to have allergies when she lived in Seattle but she thinks they are worse here.  In the past, she has tried Claritin, and Zyrtec.  Both worked for short time but then seemed to lose effectiveness.  She has used Allegra also.  She used that last summer and she began using it again two weeks ago.  It does not appear to be working very well.  She has used over-the-counter sprays but no prescription nasal sprays.  She does have asthma but doest not require daily medication for this and does not think it is flaring up.,MEDICATIONS: , Her only medication currently is Ortho Tri-Cyclen and the Allegra.,ALLERGIES: , She has no known medicine allergies.,OBJECTIVE:,Vitals:  Weight was 130 pounds and blood pressure 124/78.,HEENT:  Her throat was mildly erythematous without exudate.  Nasal mucosa was erythematous and swollen.  Only clear drainage was seen.  TMs were clear.,Neck:  Supple without adenopathy.,Lungs:  Clear.,ASSESSMENT:,  Allergic rhinitis.,PLAN:,1.  She will try Zyrtec instead of Allegra again.  Another option will be to use loratadine.  She does not think she has prescription coverage so that might be cheaper.,2.  Samples of Nasonex two sprays in each nostril given for three weeks.  A prescription was written as well.\n"
          ]
        },
        {
          "output_type": "stream",
          "name": "stderr",
          "text": [
            "/usr/local/lib/python3.7/dist-packages/pandas/core/indexing.py:1817: SettingWithCopyWarning: \n",
            "A value is trying to be set on a copy of a slice from a DataFrame.\n",
            "Try using .loc[row_indexer,col_indexer] = value instead\n",
            "\n",
            "See the caveats in the documentation: https://pandas.pydata.org/pandas-docs/stable/user_guide/indexing.html#returning-a-view-versus-a-copy\n",
            "  self._setitem_single_column(loc, value, pi)\n"
          ]
        },
        {
          "output_type": "stream",
          "name": "stdout",
          "text": [
            "PAST MEDICAL HISTORY:, He has difficulty climbing stairs, difficulty with airline seats, tying shoes, used to public seating, and lifting objects off the floor.  He exercises three times a week at home and does cardio.  He has difficulty walking two blocks or five flights of stairs.  Difficulty with snoring.  He has muscle and joint pains including knee pain, back pain, foot and ankle pain, and swelling.  He has gastroesophageal reflux disease.,PAST SURGICAL HISTORY:, Includes reconstructive surgery on his right hand 13 years ago.  ,SOCIAL HISTORY:, He is currently single.  He has about ten drinks a year.  He had smoked significantly up until several months ago.  He now smokes less than three cigarettes a day.,FAMILY HISTORY:, Heart disease in both grandfathers, grandmother with stroke, and a grandmother with diabetes.  Denies obesity and hypertension in other family members.,CURRENT MEDICATIONS:, None.,ALLERGIES:,  He is allergic to Penicillin.,MISCELLANEOUS/EATING HISTORY:, He has been going to support groups for seven months with Lynn Holmberg in Greenwich and he is from Eastchester, New York and he feels that we are the appropriate program.  He had a poor experience with the Greenwich program.  Eating history, he is not an emotional eater.  Does not like sweets.  He likes big portions and carbohydrates.  He likes chicken and not steak.  He currently weighs 312 pounds.  Ideal body weight would be 170 pounds.  He is 142 pounds overweight.  If ,he lost 60% of his excess body weight that would be 84 pounds and he should weigh about 228.,REVIEW OF SYSTEMS: ,Negative for head, neck, heart, lungs, GI, GU, orthopedic, and skin.  Specifically denies chest pain, heart attack, coronary artery disease, congestive heart failure, arrhythmia, atrial fibrillation, pacemaker, high cholesterol, pulmonary embolism, high blood pressure, CVA, venous insufficiency, thrombophlebitis, asthma, shortness of breath, COPD, emphysema, sleep apnea, diabetes, leg and foot swelling, osteoarthritis, rheumatoid arthritis, hiatal hernia, peptic ulcer disease, gallstones, infected gallbladder, pancreatitis, fatty liver, hepatitis, hemorrhoids, rectal bleeding, polyps, incontinence of stool, urinary stress incontinence, or cancer.  Denies cellulitis, pseudotumor cerebri, meningitis, or encephalitis.,PHYSICAL EXAMINATION:, He is alert and oriented x 3.  Cranial nerves II-XII are intact.  Afebrile.  Vital Signs are stable.\n",
            "HISTORY OF PRESENT ILLNESS: , I have seen ABC today.  He is a very pleasant gentleman who is 42 years old, 344 pounds.  He is 5'9\".  He has a BMI of 51.  He has been overweight for ten years since the age of 33, at his highest he was 358 pounds, at his lowest 260.  He is pursuing surgical attempts of weight loss to feel good, get healthy, and begin to exercise again.  He wants to be able to exercise and play volleyball.  Physically, he is sluggish.  He gets tired quickly.  He does not go out often.  When he loses weight he always regains it and he gains back more than he lost.  His biggest weight loss is 25 pounds and it was three months before he gained it back.  He did six months of not drinking alcohol and not taking in many calories.  He has been on multiple commercial weight loss programs including Slim Fast for one month one year ago and Atkin's Diet for one month two years ago.,PAST MEDICAL HISTORY: , He has difficulty climbing stairs, difficulty with airline seats, tying shoes, used to public seating, difficulty walking, high cholesterol, and high blood pressure.  He has asthma and difficulty walking two blocks or going eight to ten steps.  He has sleep apnea and snoring.  He is a diabetic, on medication.  He has joint pain, knee pain, back pain, foot and ankle pain, leg and foot swelling.  He has hemorrhoids.,PAST SURGICAL HISTORY: , Includes orthopedic or knee surgery.,SOCIAL HISTORY: , He is currently single.  He drinks alcohol ten to twelve drinks a week, but does not drink five days a week and then will binge drink.  He smokes one and a half pack a day for 15 years, but he has recently stopped smoking for the past two weeks.,FAMILY HISTORY: , Obesity, heart disease, and diabetes.  Family history is negative for hypertension and stroke.,CURRENT MEDICATIONS:,  Include Diovan, Crestor, and Tricor.,MISCELLANEOUS/EATING HISTORY:  ,He says a couple of friends of his have had heart attacks and have had died.  He used to drink everyday, but stopped two years ago.  He now only drinks on weekends.  He is on his second week of Chantix, which is a medication to come off smoking completely.  Eating, he eats bad food.  He is single.  He eats things like bacon, eggs, and cheese, cheeseburgers, fast food, eats four times a day, seven in the morning, at noon, 9 p.m., and 2 a.m.  He currently weighs 344 pounds and 5'9\".  His ideal body weight is 160 pounds.  He is 184 pounds overweight.  If he lost 70% of his excess body weight that would be 129 pounds and that would get him down to 215.,REVIEW OF SYSTEMS: , Negative for head, neck, heart, lungs, GI, GU, orthopedic, or skin.  He also is positive for gout.  He denies chest pain, heart attack, coronary artery disease, congestive heart failure, arrhythmia, atrial fibrillation, pacemaker, pulmonary embolism, or CVA.  He denies venous insufficiency or thrombophlebitis.  Denies shortness of breath, COPD, or emphysema.  Denies thyroid problems, hip pain, osteoarthritis, rheumatoid arthritis, GERD, hiatal hernia, peptic ulcer disease, gallstones, infected gallbladder, pancreatitis, fatty liver, hepatitis, rectal bleeding, polyps, incontinence of stool, urinary stress incontinence, or cancer.  He denies cellulitis, pseudotumor cerebri, meningitis, or encephalitis.,PHYSICAL EXAMINATION:  ,He is alert and oriented x 3.  Cranial nerves II-XII are intact.  Neck is soft and supple.  Lungs:  He has positive wheezing bilaterally.  Heart is regular rhythm and rate.  His abdomen is soft.  Extremities:  He has 1+ pitting edema.,IMPRESSION/PLAN:,  I have explained to him the risks and potential complications of laparoscopic gastric bypass in detail and these include bleeding, infection, deep venous thrombosis, pulmonary embolism, leakage from the gastrojejuno-anastomosis, jejunojejuno-anastomosis, and possible bowel obstruction among other potential complications.  He understands.  He wants to proceed with workup and evaluation for laparoscopic Roux-en-Y gastric bypass.  He will need to get a letter of approval from Dr. XYZ.  He will need to see a nutritionist and mental health worker.  He will need an upper endoscopy by either Dr. XYZ.  He will need to go to Dr. XYZ as he previously had a sleep study.  We will need another sleep study.  He will need H. pylori testing, thyroid function tests, LFTs, glycosylated hemoglobin, and fasting blood sugar.  After this is performed, we will submit him for insurance approval.\n",
            "2-D M-MODE: , ,1.  Left atrial enlargement with left atrial diameter of 4.7 cm.,2.  Normal size right and left ventricle.,3.  Normal LV systolic function with left ventricular ejection fraction of 51%.,4.  Normal LV diastolic function.,5.  No pericardial effusion.,6.  Normal morphology of aortic valve, mitral valve, tricuspid valve, and pulmonary valve.,7.  PA systolic pressure is 36 mmHg.,DOPPLER: , ,1.  Mild mitral and tricuspid regurgitation.,2.  Trace aortic and pulmonary regurgitation.\n",
            "1.  The left ventricular cavity size and wall thickness appear normal.  The wall motion and left ventricular systolic function appears hyperdynamic with estimated ejection fraction of 70% to 75%.  There is near-cavity obliteration seen.  There also appears to be increased left ventricular outflow tract gradient at the mid cavity level consistent with hyperdynamic left ventricular systolic function.  There is abnormal left ventricular relaxation pattern seen as well as elevated left atrial pressures seen by Doppler examination.,2.  The left atrium appears mildly dilated.,3.  The right atrium and right ventricle appear normal.,4.  The aortic root appears normal.,5.  The aortic valve appears calcified with mild aortic valve stenosis, calculated aortic valve area is 1.3 cm square with a maximum instantaneous gradient of 34 and a mean gradient of 19 mm.,6.  There is mitral annular calcification extending to leaflets and supportive structures with thickening of mitral valve leaflets with mild mitral regurgitation.,7.  The tricuspid valve appears normal with trace tricuspid regurgitation with moderate pulmonary artery hypertension.  Estimated pulmonary artery systolic pressure is 49 mmHg.  Estimated right atrial pressure of 10 mmHg.,8.  The pulmonary valve appears normal with trace pulmonary insufficiency.,9.  There is no pericardial effusion or intracardiac mass seen.,10.  There is a color Doppler suggestive of a patent foramen ovale with lipomatous hypertrophy of the interatrial septum.,11.  The study was somewhat technically limited and hence subtle abnormalities could be missed from the study.,\n",
            "PREOPERATIVE DIAGNOSIS: , Morbid obesity.,POSTOPERATIVE DIAGNOSIS:  ,Morbid obesity.,PROCEDURE: , Laparoscopic antecolic antegastric Roux-en-Y gastric bypass with EEA anastomosis.,ANESTHESIA: , General with endotracheal intubation.,INDICATION FOR PROCEDURE: , This is a 30-year-old female, who has been overweight for many years.  She has tried many different diets, but is unsuccessful.  She has been to our Bariatric Surgery Seminar, received some handouts, and signed the consent.  The risks and benefits of the procedure have been explained to the patient.,PROCEDURE IN DETAIL:  ,The patient was taken to the operating room and placed supine on the operating room table.  All pressure points were carefully padded.  She was given general anesthesia with endotracheal intubation.  SCD stockings were placed on both legs.  Foley catheter was placed for bladder decompression.  The abdomen was then prepped and draped in standard sterile surgical fashion.  Marcaine was then injected through umbilicus.  A small incision was made.  A Veress needle was introduced into the abdomen.  CO2 insufflation was done to a maximum pressure of 15 mmHg.  A 12-mm VersaStep port was placed through the umbilicus.  I then placed a 5-mm port just anterior to the midaxillary line and just subcostal on the right side.  I placed another 5-mm port in the midclavicular line just subcostal on the right side, a few centimeters below and medial to that, I placed a 12-mm VersaStep port.  On the left side, just anterior to the midaxillary line and just subcostal, I placed a 5-mm port.  A few centimeters below and medial to that, I placed a 15-mm port.  I began by lifting up the omentum and identifying the transverse colon and lifting that up and thereby identifying my ligament of Treitz.  I ran the small bowel down approximately 40 cm and divided the small bowel with a white load GIA stapler.  I then divided the mesentery all the way down to the base of the mesentery with a LigaSure device.  I then ran the distal bowel down, approximately 100 cm, and at 100 cm, I made a hole at the antimesenteric portion of the Roux limb and a hole in the antimesenteric portion of the duodenogastric limb, and I passed a 45 white load stapler and fired a stapler creating a side-to-side anastomosis.  I reapproximated the edges of the defect.  I lifted it up and stapled across it with another white load stapler.  I then closed the mesenteric defect with interrupted Surgidac sutures.  I divided the omentum all the way down to the colon in order to create a passageway for my small bowel to go antecolic.  I then put the patient in reverse Trendelenburg.  I placed a liver retractor, identified, and dissected the angle of His.  I then dissected on the lesser curve, approximately 2.5 cm below the gastroesophageal junction, and got into a lesser space.  I fired transversely across the stomach with a 45 blue load stapler.  I then used two fires of the 60 blue load with SeamGuard to go up into my angle of His, thereby creating my gastric pouch.  I then made a hole at the base of the gastric pouch and had Anesthesia remove the bougie and place the OG tube connected to the anvil.  I pulled the anvil into place, and I then opened up my 15-mm port site and passed my EEA stapler.  I passed that in the end of my Roux limb and had the spike come out antimesenteric.  I joined the spike with the anvil and fired a stapler creating an end-to-side anastomosis, then divided across the redundant portion of my Roux limb with a white load GI stapler, and removed it with an Endocatch bag.  I put some additional 2-0 Vicryl sutures in the anastomosis for further security.  I then placed a bowel clamp across the bowel.  I went above and passed an EGD scope into the mouth down to the esophagus and into the gastric pouch.  I distended gastric pouch with air.  There was no air leak seen.  I could pass the scope easily through the anastomosis.  There was no bleeding seen through the scope.  We closed the 15-mm port site with interrupted 0 Vicryl suture utilizing Carter-Thomason.  I copiously irrigated out that incision with about 2 L of saline.  I then closed the skin of all incisions with running Monocryl.  Sponge, instrument, and needle counts were correct at the end of the case.  The patient tolerated the procedure well without any complications.\n",
            "PREOPERATIVE DIAGNOSES:,1.  Deformity, right breast reconstruction.,2.  Excess soft tissue, anterior abdomen and flank.,3.  Lipodystrophy of the abdomen.,POSTOPERATIVE DIAGNOSES:,1.  Deformity, right breast reconstruction.,2.  Excess soft tissue, anterior abdomen and flank.,3.  Lipodystrophy of the abdomen.,PROCEDURES:,1.  Revision, right breast reconstruction.,2.  Excision, soft tissue fullness of the lateral abdomen and flank.,3.  Liposuction of the supraumbilical abdomen.,ANESTHESIA: , General.,INDICATION FOR OPERATION:,  The patient is a 31-year-old white female who previously has undergone latissimus dorsi flap and implant, breast reconstruction.  She now had lateralization of the implant with loss of medial fullness for which she desired correction.  It was felt that mobilization of the implant medially would provide the patient significant improvement and this was discussed with the patient at length.  The patient also had a small dog ear in the flank area on the right from the latissimus flap harvest, which was to be corrected.  She had also had liposuction of the periumbilical and infraumbilical abdomen with desire to have great improvement superiorly, was felt to be a candidate for such.  The above-noted procedure was discussed with the patient in detail.  The risks, benefits and potential complications were discussed.  She was marked in the upright position and then taken to the operating room for the above-noted procedure.,OPERATIVE PROCEDURE: , The patient was taken to the operating room and placed in the supine position.  Following adequate induction of general LMA anesthesia, the chest and abdomen was prepped and draped in the usual sterile fashion.  The supraumbilical abdomen was then injected with a solution of 5% lidocaine with epinephrine, as was the dog ear.  At this time, the superior central scar was then excised, dissection continued through the subcutaneous tissue, the underlying latissimus muscle until the capsule of the implant was reached.  This was then opened.  The implant was removed and placed on the back table in antibiotic solution.  Using Bovie cautery, the medial capsule was released and undermining was then performed with release of the muscle to the level of the proposed medial projection of the breast.  The inframammary fold medially was secured with 2-0 PDS suture to create greater takeoff point at this level which in the upright position and using a sizer produced a good form.  The lateral pocket was diminished by series of 2-0 PDS suture to provide medialization of the implant.  The implant was then placed back into the submuscular pocket with much improved positioning and medial fullness.  With this completed, the implant was again removed, antibiotic irrigation was performed.  A drain was placed and brought out through a separate inferior stab wound incision and hemostasis was confirmed.  The implant was then replaced and the wound was then closed in layers using 2-0 PDS running suture on the muscle and 3-0 Monocryl Dermabond subcuticular sutures.  The 2.5 cm dog ear was then excised into and including the subcutaneous tissue, even contouring was achieved and this was closed with two layers using 3-0 Monocryl suture.  Using a #3 cannula, a superior umbilical incision, liposuction was carried out into the supraumbilical abdomen, removing approximately 40 to 50 mL of fat with improved supraumbilical contours.  This was closed with 6-0 Prolene suture.  The patient was placed in a compressive garment after treating the incision with Dermabond, Steri-Strips and antibiotic ointment around the drain site and umbilicus.  A Kerlix dressing and a surgical bra was placed to the chest area.  A compressive garment was placed.  The patient was then aroused from anesthesia, extubated, and taken to the recovery room in stable condition.  Sponge, needle, lap, instrument counts were all correct.  The patient tolerated the procedure well.  There were no complications.  The estimated blood loss was approximately 25 mL.\n",
            "2-D ECHOCARDIOGRAM,Multiple views of the heart and great vessels reveal normal intracardiac and great vessel relationships.  Cardiac function is normal.  There is no significant chamber enlargement or hypertrophy.  There is no pericardial effusion or vegetations seen.  Doppler interrogation, including color flow imaging, reveals systemic venous return to the right atrium with normal tricuspid inflow.  Pulmonary outflow is normal at the valve.  Pulmonary venous return is to the left atrium.  The interatrial septum is intact.  Mitral inflow and ascending aorta flow are normal.  The aortic valve is trileaflet.  The coronary arteries appear to be normal in their origins.  The aortic arch is left-sided and patent with normal descending aorta pulsatility.\n",
            "PREOPERATIVE DIAGNOSIS: , Lipodystrophy of the abdomen and thighs.,POSTOPERATIVE DIAGNOSIS:,  Lipodystrophy of the abdomen and thighs.,OPERATION: , Suction-assisted lipectomy.,ANESTHESIA:,  General.,FINDINGS AND PROCEDURE:,  With the patient under satisfactory general endotracheal anesthesia, the entire abdomen, flanks, perineum, and thighs to the knees were prepped and draped circumferentially in sterile fashion.  After this had been completed, a #15 blade was used to make small stab wounds in the lateral hips, the pubic area, and upper edge of the umbilicus.  Through these small incisions, a cannula was used to infiltrate lactated Ringers with 1000 cc was infiltrated initially into the abdomen.  A 3 and 4-mm cannulas were then used to carry out the liposuction of the abdomen removing a total of 1100 cc of aspirate, which was mostly fat, little fluid, and blood.  Attention was then directed to the thighs both inner and outer.  A total of 1000 cc was infiltrated in both lateral thighs only about 50 cc in the medial thighs.  After this had been completed, 3 and 4-mm cannulas were used to suction 650 cc from each side, approximately 50 cc in the inner thigh and 600 on each lateral thigh.  The patient tolerated the procedure very well.  All of this aspirate was mostly fat with little fluid and very little blood.  Wounds were cleaned and steri-stripped and dressing of ABD pads and ***** was then applied.  The patient tolerated the procedure very well and was sent to the recovery room in good condition.\n",
            "DESCRIPTION:,1.  Normal cardiac chambers size.,2.  Normal left ventricular size.,3.  Normal LV systolic function.  Ejection fraction estimated around 60%.,4.  Aortic valve seen with good motion.,5.  Mitral valve seen with good motion.,6.  Tricuspid valve seen with good motion.,7.  No pericardial effusion or intracardiac masses.,DOPPLER:,1.  Trace mitral regurgitation.,2.  Trace tricuspid regurgitation.,IMPRESSION:,1.  Normal LV systolic function.,2.  Ejection fraction estimated around 60%.,\n",
            "   Unnamed: 0                                        description  \\\n",
            "0           0   A 23-year-old white female presents with comp...   \n",
            "1           1           Consult for laparoscopic gastric bypass.   \n",
            "2           2           Consult for laparoscopic gastric bypass.   \n",
            "3           3                             2-D M-Mode. Doppler.     \n",
            "4           4                                 2-D Echocardiogram   \n",
            "5           5   Morbid obesity.  Laparoscopic antecolic anteg...   \n",
            "6           6   Liposuction of the supraumbilical abdomen, re...   \n",
            "7           7                                 2-D Echocardiogram   \n",
            "8           8   Suction-assisted lipectomy - lipodystrophy of...   \n",
            "9           9                         Echocardiogram and Doppler   \n",
            "\n",
            "             medical_specialty                                sample_name  \\\n",
            "0         Allergy / Immunology                         Allergic Rhinitis    \n",
            "1                   Bariatrics   Laparoscopic Gastric Bypass Consult - 2    \n",
            "2                   Bariatrics   Laparoscopic Gastric Bypass Consult - 1    \n",
            "3   Cardiovascular / Pulmonary                    2-D Echocardiogram - 1    \n",
            "4   Cardiovascular / Pulmonary                    2-D Echocardiogram - 2    \n",
            "5                   Bariatrics               Laparoscopic Gastric Bypass    \n",
            "6                   Bariatrics                               Liposuction    \n",
            "7   Cardiovascular / Pulmonary                    2-D Echocardiogram - 3    \n",
            "8                   Bariatrics                Lipectomy - Abdomen/Thighs    \n",
            "9   Cardiovascular / Pulmonary                    2-D Echocardiogram - 4    \n",
            "\n",
            "                                       transcription  \\\n",
            "0  SUBJECTIVE:,  This 23-year-old white female pr...   \n",
            "1  PAST MEDICAL HISTORY:, He has difficulty climb...   \n",
            "2  HISTORY OF PRESENT ILLNESS: , I have seen ABC ...   \n",
            "3  2-D M-MODE: , ,1.  Left atrial enlargement wit...   \n",
            "4  1.  The left ventricular cavity size and wall ...   \n",
            "5  PREOPERATIVE DIAGNOSIS: , Morbid obesity.,POST...   \n",
            "6  PREOPERATIVE DIAGNOSES:,1.  Deformity, right b...   \n",
            "7  2-D ECHOCARDIOGRAM,Multiple views of the heart...   \n",
            "8  PREOPERATIVE DIAGNOSIS: , Lipodystrophy of the...   \n",
            "9  DESCRIPTION:,1.  Normal cardiac chambers size....   \n",
            "\n",
            "                                            keywords            age  \\\n",
            "0  allergy / immunology, allergic rhinitis, aller...    23-year-old   \n",
            "1  bariatrics, laparoscopic gastric bypass, weigh...  Not Available   \n",
            "2  bariatrics, laparoscopic gastric bypass, heart...  Not Available   \n",
            "3  cardiovascular / pulmonary, 2-d m-mode, dopple...  Not Available   \n",
            "4  cardiovascular / pulmonary, 2-d, doppler, echo...  Not Available   \n",
            "5  bariatrics, gastric bypass, eea anastomosis, r...    30-year-old   \n",
            "6  bariatrics, breast reconstruction, excess, lma...    31-year-old   \n",
            "7  cardiovascular / pulmonary, 2-d echocardiogram...  Not Available   \n",
            "8  bariatrics, lipodystrophy, abd pads, suction-a...  Not Available   \n",
            "9  cardiovascular / pulmonary, ejection fraction,...  Not Available   \n",
            "\n",
            "                                        complaint   consultation  \\\n",
            "0                                   Not Available  Not Available   \n",
            "1                                   Not Available  Not Available   \n",
            "2                                   Not Available  Not Available   \n",
            "3                                   Not Available  Not Available   \n",
            "4                                   Not Available  Not Available   \n",
            "5                                   Not Available  Not Available   \n",
            "6                                   Not Available  Not Available   \n",
            "7                                   Not Available  Not Available   \n",
            "8                                   Not Available  Not Available   \n",
            "9  No pericardial effusion or intracardiac masses  Not Available   \n",
            "\n",
            "        symptoms  \n",
            "0      allergies  \n",
            "1  Not Available  \n",
            "2  Not Available  \n",
            "3  Not Available  \n",
            "4  Not Available  \n",
            "5  Not Available  \n",
            "6  Not Available  \n",
            "7  Not Available  \n",
            "8  Not Available  \n",
            "9  Not Available  \n"
          ]
        }
      ]
    },
    {
      "cell_type": "code",
      "source": [],
      "metadata": {
        "id": "iyNaohYmajvA"
      },
      "execution_count": 30,
      "outputs": []
    }
  ]
}